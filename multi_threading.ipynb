{
 "cells": [
  {
   "cell_type": "markdown",
   "id": "b219ca6c",
   "metadata": {},
   "source": [
    "1. Write a program to create and start a thread that prints numbers from 1 to 10.\n",
    "2. Write a program to create two threads: one to print even numbers and another to print odd numbers.\n",
    "3. Write a program to demonstrate the use of `join` method in threads.\n",
    "4. Write a program to demonstrate the use of `Lock` to synchronize threads.\n",
    "5. Write a program to create a thread pool using `ThreadPoolExecutor` and execute multiple tasks.\n",
    "6. Write a program to demonstrate a demon thread example .\n",
    " "
   ]
  },
  {
   "cell_type": "markdown",
   "id": "c181e87a",
   "metadata": {},
   "source": [
    "1. Write a program to create and start a thread that prints numbers from 1 to 10."
   ]
  },
  {
   "cell_type": "code",
   "execution_count": 2,
   "id": "c505ff48",
   "metadata": {},
   "outputs": [
    {
     "name": "stdout",
     "output_type": "stream",
     "text": [
      "number:0\n",
      "number:1\n",
      "number:2\n",
      "number:3\n",
      "number:4\n",
      "number:5\n",
      "number:6\n",
      "number:7\n",
      "number:8\n",
      "number:9\n",
      "program finished\n"
     ]
    }
   ],
   "source": [
    "import threading\n",
    "from threading import *\n",
    "import time\n",
    "def print_num():\n",
    "    for i in range(10):\n",
    "        print(f\"number:{i}\")\n",
    "        time.sleep(0.5)\n",
    "my_thread=threading.Thread(target=print_num)\n",
    "my_thread.start()\n",
    "my_thread.join()\n",
    "print('program finished')\n"
   ]
  },
  {
   "cell_type": "code",
   "execution_count": null,
   "id": "dd2225b6",
   "metadata": {},
   "outputs": [
    {
     "name": "stdout",
     "output_type": "stream",
     "text": [
      "Even: 2\n",
      "Odd: 1\n",
      "Even: 4\n",
      "Odd: 3\n",
      "Even: 6\n",
      "Odd: 5\n",
      "Even: 8\n",
      "Odd: 7\n",
      "Even: 10Odd: 9\n",
      "\n",
      "Finished printing even and odd numbers.\n"
     ]
    }
   ],
   "source": [
    "import threading\n",
    "import time\n",
    "\n",
    "def print_numbers(number_type):\n",
    "    for i in range(1, 11):\n",
    "        if number_type == 'even' and i % 2 == 0:\n",
    "            print(f\"Even: {i}\")\n",
    "            time.sleep(0.3)\n",
    "        elif number_type == 'odd' and i % 2 != 0:\n",
    "            print(f\"Odd: {i}\")\n",
    "            time.sleep(0.3)\n",
    "\n",
    "\n",
    "even_thread = threading.Thread(target=print_numbers, args=('even',))\n",
    "odd_thread = threading.Thread(target=print_numbers, args=('odd',))\n",
    "\n",
    "even_thread.start()\n",
    "odd_thread.start()\n",
    "\n",
    "even_thread.join()\n",
    "odd_thread.join()\n",
    "\n",
    "print(\"Finished printing even and odd numbers.\")\n"
   ]
  },
  {
   "cell_type": "code",
   "execution_count": 22,
   "id": "10d47e00",
   "metadata": {},
   "outputs": [
    {
     "name": "stdout",
     "output_type": "stream",
     "text": [
      "OddThread - Odd: 1EvenThread - Even: 2\n",
      "\n",
      "EvenThread - Even: 4OddThread - Odd: 3\n",
      "\n",
      "EvenThread - Even: 6OddThread - Odd: 5\n",
      "\n",
      "OddThread - Odd: 7\n",
      "EvenThread - Even: 8\n",
      "EvenThread - Even: 10OddThread - Odd: 9\n",
      "\n",
      "OddThread - Odd: 11\n",
      "EvenThread - Even: 12\n",
      "OddThread - Odd: 13EvenThread - Even: 14\n",
      "\n",
      "EvenThread - Even: 16OddThread - Odd: 15\n",
      "\n",
      "OddThread - Odd: 17\n",
      "EvenThread - Even: 18\n",
      "OddThread - Odd: 19EvenThread - Even: 20\n",
      "\n",
      "Finished printing numbers.\n"
     ]
    }
   ],
   "source": [
    "import threading\n",
    "import time\n",
    "\n",
    "def print_numbers():\n",
    "    thread_name = threading.current_thread().name\n",
    "    for i in range(1, 21):\n",
    "        if thread_name == \"EvenThread\" and i % 2 == 0:\n",
    "            time.sleep(0.3)\n",
    "            print(f\"{thread_name} - Even: {i}\")\n",
    "    \n",
    "        elif thread_name == \"OddThread\" and i % 2 != 0:\n",
    "            time.sleep(0.3)\n",
    "            print(f\"{thread_name} - Odd: {i}\")\n",
    "\n",
    "odd_thread = threading.Thread(target=print_numbers, name=\"OddThread\")\n",
    "even_thread = threading.Thread(target=print_numbers, name=\"EvenThread\")\n",
    "odd_thread.start()\n",
    "even_thread.start()\n",
    "\n",
    "odd_thread.join()\n",
    "even_thread.join()\n",
    "print(\"Finished printing numbers.\")\n"
   ]
  },
  {
   "cell_type": "markdown",
   "id": "c7ebe4dc",
   "metadata": {},
   "source": [
    "3. Write a program to demonstrate the use of `join` method in threads."
   ]
  },
  {
   "cell_type": "code",
   "execution_count": 20,
   "id": "a46c7bae",
   "metadata": {},
   "outputs": [
    {
     "name": "stdout",
     "output_type": "stream",
     "text": [
      "task1 started\n",
      "task2 started\n",
      "task1 finished\n",
      "task2 finfished\n",
      "bot tasks are completed\n"
     ]
    }
   ],
   "source": [
    "import threading\n",
    "import time\n",
    "def task1():\n",
    "    print('task1 started')\n",
    "    time.sleep(2)\n",
    "    print('task1 finished')\n",
    "def task2():\n",
    "    print('task2 started')\n",
    "    time.sleep(3)\n",
    "    print('task2 finfished')\n",
    "t1=threading.Thread(target=task1)\n",
    "t2=threading.Thread(target=task2)\n",
    "t1.start()\n",
    "t2.start()\n",
    "t1.join()\n",
    "t2.join()\n",
    "print('bot tasks are completed')\n"
   ]
  },
  {
   "cell_type": "markdown",
   "id": "bcc0be1f",
   "metadata": {},
   "source": [
    "idcard,hiring,printing\n",
    "can a peron without idcard can nter into building\n",
    "can a person id card get printd without being hired\n",
    "hiring will join prinitg\n",
    "printig should wait until the hiring gets completed\n",
    "\n",
    "\n"
   ]
  },
  {
   "cell_type": "code",
   "execution_count": 24,
   "id": "5ec78bd5",
   "metadata": {},
   "outputs": [
    {
     "name": "stdout",
     "output_type": "stream",
     "text": [
      "OddThread: 1\n",
      "EvenThread: 2\n",
      "OddThread: 3\n",
      "EvenThread: 4\n",
      "OddThread: 5\n",
      "EvenThread: 6\n",
      "OddThread: 7\n",
      "EvenThread: 8\n",
      "OddThread: 9\n",
      "EvenThread: 10\n",
      "OddThread: 11\n",
      "EvenThread: 12\n",
      "OddThread: 13\n",
      "EvenThread: 14\n",
      "OddThread: 15\n",
      "EvenThread: 16\n",
      "OddThread: 17\n",
      "EvenThread: 18\n",
      "OddThread: 19\n",
      "EvenThread: 20\n",
      "Done checking even and odd numbers with lock.\n"
     ]
    }
   ],
   "source": [
    "import threading\n",
    "import time\n",
    "\n",
    "lock = threading.Lock()\n",
    "\n",
    "\n",
    "def print_numbers():\n",
    "    thread_name = threading.current_thread().name\n",
    "    for i in range(1, 21):\n",
    "        with lock: \n",
    "            if thread_name == \"EvenThread\" and i % 2 == 0:\n",
    "                print(f\"{thread_name}: {i}\")\n",
    "                time.sleep(0.2)\n",
    "            elif thread_name == \"OddThread\" and i % 2 != 0:\n",
    "                print(f\"{thread_name}: {i}\")\n",
    "                time.sleep(0.2)\n",
    "\n",
    "even_thread = threading.Thread(target=print_numbers, name=\"EvenThread\")\n",
    "odd_thread = threading.Thread(target=print_numbers, name=\"OddThread\")\n",
    "\n",
    "odd_thread.start()\n",
    "even_thread.start()\n",
    "even_thread.join()\n",
    "odd_thread.join()\n",
    "\n",
    "print(\"Done checking even and odd numbers with lock.\")\n"
   ]
  },
  {
   "cell_type": "code",
   "execution_count": null,
   "id": "145a4cc1",
   "metadata": {},
   "outputs": [
    {
     "name": "stdout",
     "output_type": "stream",
     "text": [
      "OddThread could not acquire the lock, skipping...\n",
      "OddThread could not acquire the lock, skipping...\n",
      "EvenThread: 2\n",
      "EvenThread could not acquire the lock, skipping...\n",
      "EvenThread could not acquire the lock, skipping...\n",
      "OddThread: 3\n",
      "Timeout: Threads took more than 5 seconds.\n"
     ]
    },
    {
     "name": "stdout",
     "output_type": "stream",
     "text": [
      "OddThread could not acquire the lock, skipping...\n",
      "OddThread could not acquire the lock, skipping...\n",
      "EvenThread: 6\n",
      "OddThread could not acquire the lock, skipping...\n",
      "OddThread could not acquire the lock, skipping...\n",
      "EvenThread: 8\n",
      "EvenThread could not acquire the lock, skipping...\n",
      "EvenThread could not acquire the lock, skipping...\n",
      "OddThread: 9\n",
      "OddThread could not acquire the lock, skipping...\n",
      "OddThread could not acquire the lock, skipping...\n",
      "EvenThread: 12\n",
      "EvenThread could not acquire the lock, skipping...\n",
      "EvenThread could not acquire the lock, skipping...\n",
      "OddThread: 13\n",
      "OddThread could not acquire the lock, skipping...\n",
      "OddThread could not acquire the lock, skipping...\n",
      "EvenThread: 16\n",
      "EvenThread could not acquire the lock, skipping...\n",
      "EvenThread could not acquire the lock, skipping...\n",
      "OddThread: 17\n",
      "OddThread could not acquire the lock, skipping...\n",
      "OddThread could not acquire the lock, skipping...\n",
      "EvenThread: 20\n"
     ]
    }
   ],
   "source": [
    "import threading\n",
    "import time\n",
    "\n",
    "lock = threading.Lock()\n",
    "\n",
    "def print_numbers():\n",
    "    thread_name = threading.current_thread().name\n",
    "    for i in range(1, 21):\n",
    "        got_lock = lock.acquire(timeout=2)  # Try to acquire lock, max wait 1 sec\n",
    "        if got_lock:\n",
    "            try:\n",
    "                if thread_name == \"EvenThread\" and i % 2 == 0:\n",
    "                    time.sleep(5)\n",
    "                    print(f\"{thread_name}: {i}\")\n",
    "                    \n",
    "                elif thread_name == \"OddThread\" and i % 2 != 0:\n",
    "                    time.sleep(5)\n",
    "                    print(f\"{thread_name}: {i}\")\n",
    "            \n",
    "            finally:\n",
    "                lock.release()\n",
    "        else:\n",
    "            print(f\"{thread_name} could not acquire the lock, skipping...\")\n",
    "\n",
    "even_thread = threading.Thread(target=print_numbers, name=\"EvenThread\")\n",
    "odd_thread = threading.Thread(target=print_numbers, name=\"OddThread\")\n",
    "\n",
    "start_time = time.time()\n",
    "\n",
    "even_thread.start()\n",
    "odd_thread.start()\n",
    "\n",
    "even_thread.join(timeout=5)\n",
    "odd_thread.join(timeout=5)\n",
    "\n",
    "if even_thread.is_alive() or odd_thread.is_alive():\n",
    "    print(\"Timeout: Threads took more than 5 seconds.\")\n",
    "else:\n",
    "    print(\"Completed within 5 seconds.\")\n"
   ]
  },
  {
   "cell_type": "code",
   "execution_count": 29,
   "id": "803d9d19",
   "metadata": {},
   "outputs": [
    {
     "name": "stdout",
     "output_type": "stream",
     "text": [
      "Hello from thread: GreetThread\n"
     ]
    }
   ],
   "source": [
    "import threading\n",
    "\n",
    "def greet():\n",
    "    print(\"Hello from thread:\", threading.current_thread().name)\n",
    "\n",
    "# Create a thread\n",
    "t = threading.Thread(target=greet, name=\"GreetThread\")\n",
    "\n",
    "t.start()      # Start the thread\n",
    "t.join()       # Wait for it to finish\n"
   ]
  },
  {
   "cell_type": "code",
   "execution_count": 32,
   "id": "db6607e9",
   "metadata": {},
   "outputs": [
    {
     "name": "stdout",
     "output_type": "stream",
     "text": [
      "my name is tanuja\n",
      "my name is tanuja\n",
      "my name is tanuja\n",
      "my name is tanuja\n",
      "my name is tanuja\n"
     ]
    }
   ],
   "source": [
    "import threading\n",
    "import time\n",
    "def print_name():\n",
    "    for i in range(5):\n",
    "        print('my name is tanuja')\n",
    "t1=threading.Thread(target=print_name)\n",
    "t1.start()\n",
    "t1.join()"
   ]
  },
  {
   "cell_type": "code",
   "execution_count": 34,
   "id": "ecd8a978",
   "metadata": {},
   "outputs": [
    {
     "name": "stdout",
     "output_type": "stream",
     "text": [
      "my clg name is rvr\n",
      "my clg name is rvr\n",
      "my clg name is rvr\n",
      "my clg name is rvr\n",
      "my clg name is rvr\n"
     ]
    }
   ],
   "source": [
    "import threading\n",
    "import time\n",
    "def print_clgname():\n",
    "    for i in range(5):\n",
    "        print('my clg name is rvr')\n",
    "t1=threading.Thread(target=print_clgname)\n",
    "t1.start()\n",
    "t1.join()"
   ]
  },
  {
   "cell_type": "code",
   "execution_count": 42,
   "id": "6af0eb92",
   "metadata": {},
   "outputs": [
    {
     "name": "stdout",
     "output_type": "stream",
     "text": [
      "my name is tanu  \n",
      "my clg name is rvr  \n",
      "my name is tanu  \n",
      "my clg name is rvr  \n",
      "my name is tanu  \n",
      "my clg name is rvr  \n",
      "my name is tanu  \n",
      "my clg name is rvr  \n",
      "my name is tanu  \n",
      "my clg name is rvr  \n"
     ]
    }
   ],
   "source": [
    "import threading\n",
    "import time\n",
    "def print_name():\n",
    "    for i in range(5):\n",
    "        print('my name is tanu  ')\n",
    "        time.sleep(5)\n",
    "\n",
    "def print_clgname():\n",
    "    for i in range(5):\n",
    "        print('my clg name is rvr  ')\n",
    "        time.sleep(5)\n",
    "t1=threading.Thread(target=print_clgname)\n",
    "t2=threading.Thread(target=print_name)\n",
    "t2.start()\n",
    "t1.start()\n",
    "t2.join()\n",
    "t1.join()\n"
   ]
  },
  {
   "cell_type": "markdown",
   "id": "c3dce0bd",
   "metadata": {},
   "source": [
    "- Want to Know Which Thread is Running?\n",
    "- current_thread().name — it tells you who is printing."
   ]
  },
  {
   "cell_type": "code",
   "execution_count": null,
   "id": "9cd02783",
   "metadata": {},
   "outputs": [
    {
     "name": "stdout",
     "output_type": "stream",
     "text": [
      "[Thread-282 (print_name)]my name is tanu  \n",
      "[Thread-283 (print_clgname)]my clg name is rvr  \n",
      "[Thread-283 (print_clgname)]my clg name is rvr  \n",
      "[Thread-282 (print_name)]my name is tanu  \n",
      "[Thread-283 (print_clgname)]my clg name is rvr  \n",
      "[Thread-282 (print_name)]my name is tanu  \n",
      "[Thread-283 (print_clgname)]my clg name is rvr  \n",
      "[Thread-282 (print_name)]my name is tanu  \n",
      "[Thread-283 (print_clgname)]my clg name is rvr  \n",
      "[Thread-282 (print_name)]my name is tanu  \n"
     ]
    }
   ],
   "source": [
    "import threading\n",
    "import time\n",
    "def print_name():\n",
    "    for i in range(5):\n",
    "        time.sleep(1)\n",
    "        print(f'[{threading.current_thread().name}]my name is tanu  ')\n",
    "     \n",
    "def print_clgname():\n",
    "    for i in range(5):\n",
    "        time.sleep(1)\n",
    "        print(f'[{threading.current_thread().name}]my clg name is rvr  ')\n",
    "t1=threading.Thread(target=print_name)\n",
    "t2=threading.Thread(target=print_clgname)\n",
    "t1.start()\n",
    "t2.start()\n",
    "t1.join()\n",
    "t2.join()"
   ]
  },
  {
   "cell_type": "code",
   "execution_count": null,
   "id": "1334437c",
   "metadata": {},
   "outputs": [],
   "source": []
  }
 ],
 "metadata": {
  "kernelspec": {
   "display_name": "Python 3",
   "language": "python",
   "name": "python3"
  },
  "language_info": {
   "codemirror_mode": {
    "name": "ipython",
    "version": 3
   },
   "file_extension": ".py",
   "mimetype": "text/x-python",
   "name": "python",
   "nbconvert_exporter": "python",
   "pygments_lexer": "ipython3",
   "version": "3.13.3"
  }
 },
 "nbformat": 4,
 "nbformat_minor": 5
}
